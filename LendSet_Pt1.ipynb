{
 "cells": [
  {
   "cell_type": "markdown",
   "metadata": {},
   "source": [
    "# Assignment A3.1"
   ]
  },
  {
   "cell_type": "markdown",
   "metadata": {},
   "source": [
    "**Intuitive exploration, choosing which columns to drop based on amount of unique values, conceptual relevance and assumptions made on impact on classification question**"
   ]
  },
  {
   "cell_type": "markdown",
   "metadata": {},
   "source": [
    "Description of the Dataset (From source on Kaggle):\n",
    ">\"I concatenated historical loans from both Prosper and Lending Club 2013 - 2018. Currently only the summary of the loan (terms, origination date, loan amount, status, etc) are up but detailed lender data will come soon. The columns are matched up as accurately as possible but there are estimated columns, see below for more info.\""
   ]
  },
  {
   "cell_type": "markdown",
   "metadata": {},
   "source": [
    "Using your coding skills:\n",
    "\n",
    "   - Perform a classification analysis to separate defaulted loans from the good loans (Make your own assumptions). (Logistic Regression may work in this case) \n",
    "   - Make some visualizations that showcase which are the more important features. (Decision trees could be a good idea for this) \n",
    "   - The data analysis should also help the viewer to understand the data. (Storytell)"
   ]
  },
  {
   "cell_type": "code",
   "execution_count": 5,
   "metadata": {},
   "outputs": [],
   "source": [
    "import pandas as pd\n",
    "import numpy as mp\n",
    "import matplotlib.pyplot as plt\n",
    "import seaborn as sns\n",
    "sns.set()\n",
    "%matplotlib inline"
   ]
  },
  {
   "cell_type": "markdown",
   "metadata": {},
   "source": [
    "Loading data for inspection and cleaning. Reminder: the warning raised is because 'listing_title' has some nans in it. This should be processed before continuing in the analysis, maybe filled with 'unknown'"
   ]
  },
  {
   "cell_type": "code",
   "execution_count": 2,
   "metadata": {},
   "outputs": [
    {
     "name": "stderr",
     "output_type": "stream",
     "text": [
      "/home/khaerus/anaconda3/envs/DataPy/lib/python3.8/site-packages/IPython/core/interactiveshell.py:3146: DtypeWarning: Columns (7) have mixed types.Specify dtype option on import or set low_memory=False.\n",
      "  has_raised = await self.run_ast_nodes(code_ast.body, cell_name,\n"
     ]
    }
   ],
   "source": [
    "pre_data = pd.read_csv('data/Master_Loan_Summary.csv')"
   ]
  },
  {
   "cell_type": "code",
   "execution_count": 3,
   "metadata": {},
   "outputs": [
    {
     "data": {
      "text/html": [
       "<div>\n",
       "<style scoped>\n",
       "    .dataframe tbody tr th:only-of-type {\n",
       "        vertical-align: middle;\n",
       "    }\n",
       "\n",
       "    .dataframe tbody tr th {\n",
       "        vertical-align: top;\n",
       "    }\n",
       "\n",
       "    .dataframe thead th {\n",
       "        text-align: right;\n",
       "    }\n",
       "</style>\n",
       "<table border=\"1\" class=\"dataframe\">\n",
       "  <thead>\n",
       "    <tr style=\"text-align: right;\">\n",
       "      <th></th>\n",
       "      <th>loan_number</th>\n",
       "      <th>amount_borrowed</th>\n",
       "      <th>term</th>\n",
       "      <th>borrower_rate</th>\n",
       "      <th>installment</th>\n",
       "      <th>grade</th>\n",
       "      <th>origination_date</th>\n",
       "      <th>listing_title</th>\n",
       "      <th>principal_balance</th>\n",
       "      <th>principal_paid</th>\n",
       "      <th>interest_paid</th>\n",
       "      <th>late_fees_paid</th>\n",
       "      <th>debt_sale_proceeds_received</th>\n",
       "      <th>last_payment_date</th>\n",
       "      <th>next_payment_due_date</th>\n",
       "      <th>days_past_due</th>\n",
       "      <th>loan_status_description</th>\n",
       "      <th>data_source</th>\n",
       "    </tr>\n",
       "  </thead>\n",
       "  <tbody>\n",
       "    <tr>\n",
       "      <th>0</th>\n",
       "      <td>10149342</td>\n",
       "      <td>27050.0</td>\n",
       "      <td>36</td>\n",
       "      <td>0.1099</td>\n",
       "      <td>885.46</td>\n",
       "      <td>B</td>\n",
       "      <td>2013-12-01T00:00</td>\n",
       "      <td>debt_consolidation</td>\n",
       "      <td>0.0</td>\n",
       "      <td>27050.0</td>\n",
       "      <td>4702.53</td>\n",
       "      <td>0.0</td>\n",
       "      <td>0.0</td>\n",
       "      <td>2016-07-01T00:00</td>\n",
       "      <td>2016-08-01T00:00</td>\n",
       "      <td>0</td>\n",
       "      <td>COMPLETED</td>\n",
       "      <td>Lending Club</td>\n",
       "    </tr>\n",
       "    <tr>\n",
       "      <th>1</th>\n",
       "      <td>10149488</td>\n",
       "      <td>4800.0</td>\n",
       "      <td>36</td>\n",
       "      <td>0.1099</td>\n",
       "      <td>157.13</td>\n",
       "      <td>B</td>\n",
       "      <td>2013-12-01T00:00</td>\n",
       "      <td>home_improvement</td>\n",
       "      <td>0.0</td>\n",
       "      <td>4800.0</td>\n",
       "      <td>357.52</td>\n",
       "      <td>0.0</td>\n",
       "      <td>0.0</td>\n",
       "      <td>2014-09-01T00:00</td>\n",
       "      <td>2014-10-01T00:00</td>\n",
       "      <td>0</td>\n",
       "      <td>COMPLETED</td>\n",
       "      <td>Lending Club</td>\n",
       "    </tr>\n",
       "    <tr>\n",
       "      <th>2</th>\n",
       "      <td>10148122</td>\n",
       "      <td>12000.0</td>\n",
       "      <td>36</td>\n",
       "      <td>0.0762</td>\n",
       "      <td>373.94</td>\n",
       "      <td>A</td>\n",
       "      <td>2013-12-01T00:00</td>\n",
       "      <td>debt_consolidation</td>\n",
       "      <td>0.0</td>\n",
       "      <td>12000.0</td>\n",
       "      <td>1397.54</td>\n",
       "      <td>0.0</td>\n",
       "      <td>0.0</td>\n",
       "      <td>2016-06-01T00:00</td>\n",
       "      <td>2016-07-01T00:00</td>\n",
       "      <td>0</td>\n",
       "      <td>COMPLETED</td>\n",
       "      <td>Lending Club</td>\n",
       "    </tr>\n",
       "    <tr>\n",
       "      <th>3</th>\n",
       "      <td>10119623</td>\n",
       "      <td>12000.0</td>\n",
       "      <td>36</td>\n",
       "      <td>0.1199</td>\n",
       "      <td>398.52</td>\n",
       "      <td>B</td>\n",
       "      <td>2013-12-01T00:00</td>\n",
       "      <td>debt_consolidation</td>\n",
       "      <td>0.0</td>\n",
       "      <td>12000.0</td>\n",
       "      <td>2346.48</td>\n",
       "      <td>0.0</td>\n",
       "      <td>0.0</td>\n",
       "      <td>2017-01-01T00:00</td>\n",
       "      <td>2017-02-01T00:00</td>\n",
       "      <td>0</td>\n",
       "      <td>COMPLETED</td>\n",
       "      <td>Lending Club</td>\n",
       "    </tr>\n",
       "    <tr>\n",
       "      <th>4</th>\n",
       "      <td>10159498</td>\n",
       "      <td>12000.0</td>\n",
       "      <td>36</td>\n",
       "      <td>0.0662</td>\n",
       "      <td>368.45</td>\n",
       "      <td>A</td>\n",
       "      <td>2013-12-01T00:00</td>\n",
       "      <td>debt_consolidation</td>\n",
       "      <td>0.0</td>\n",
       "      <td>12000.0</td>\n",
       "      <td>1263.95</td>\n",
       "      <td>0.0</td>\n",
       "      <td>0.0</td>\n",
       "      <td>2017-01-01T00:00</td>\n",
       "      <td>2017-02-01T00:00</td>\n",
       "      <td>0</td>\n",
       "      <td>COMPLETED</td>\n",
       "      <td>Lending Club</td>\n",
       "    </tr>\n",
       "  </tbody>\n",
       "</table>\n",
       "</div>"
      ],
      "text/plain": [
       "   loan_number  amount_borrowed  term  borrower_rate  installment grade  \\\n",
       "0     10149342          27050.0    36         0.1099       885.46     B   \n",
       "1     10149488           4800.0    36         0.1099       157.13     B   \n",
       "2     10148122          12000.0    36         0.0762       373.94     A   \n",
       "3     10119623          12000.0    36         0.1199       398.52     B   \n",
       "4     10159498          12000.0    36         0.0662       368.45     A   \n",
       "\n",
       "   origination_date       listing_title  principal_balance  principal_paid  \\\n",
       "0  2013-12-01T00:00  debt_consolidation                0.0         27050.0   \n",
       "1  2013-12-01T00:00    home_improvement                0.0          4800.0   \n",
       "2  2013-12-01T00:00  debt_consolidation                0.0         12000.0   \n",
       "3  2013-12-01T00:00  debt_consolidation                0.0         12000.0   \n",
       "4  2013-12-01T00:00  debt_consolidation                0.0         12000.0   \n",
       "\n",
       "   interest_paid  late_fees_paid  debt_sale_proceeds_received  \\\n",
       "0        4702.53             0.0                          0.0   \n",
       "1         357.52             0.0                          0.0   \n",
       "2        1397.54             0.0                          0.0   \n",
       "3        2346.48             0.0                          0.0   \n",
       "4        1263.95             0.0                          0.0   \n",
       "\n",
       "  last_payment_date next_payment_due_date  days_past_due  \\\n",
       "0  2016-07-01T00:00      2016-08-01T00:00              0   \n",
       "1  2014-09-01T00:00      2014-10-01T00:00              0   \n",
       "2  2016-06-01T00:00      2016-07-01T00:00              0   \n",
       "3  2017-01-01T00:00      2017-02-01T00:00              0   \n",
       "4  2017-01-01T00:00      2017-02-01T00:00              0   \n",
       "\n",
       "  loan_status_description   data_source  \n",
       "0               COMPLETED  Lending Club  \n",
       "1               COMPLETED  Lending Club  \n",
       "2               COMPLETED  Lending Club  \n",
       "3               COMPLETED  Lending Club  \n",
       "4               COMPLETED  Lending Club  "
      ]
     },
     "execution_count": 3,
     "metadata": {},
     "output_type": "execute_result"
    }
   ],
   "source": [
    "pre_data.head()"
   ]
  },
  {
   "cell_type": "code",
   "execution_count": 4,
   "metadata": {},
   "outputs": [
    {
     "data": {
      "text/plain": [
       "array(['loan_number', 'amount_borrowed', 'term', 'borrower_rate',\n",
       "       'installment', 'grade', 'origination_date', 'listing_title',\n",
       "       'principal_balance', 'principal_paid', 'interest_paid',\n",
       "       'late_fees_paid', 'debt_sale_proceeds_received',\n",
       "       'last_payment_date', 'next_payment_due_date', 'days_past_due',\n",
       "       'loan_status_description', 'data_source'], dtype=object)"
      ]
     },
     "execution_count": 4,
     "metadata": {},
     "output_type": "execute_result"
    }
   ],
   "source": [
    "pre_data.columns.values"
   ]
  },
  {
   "cell_type": "markdown",
   "metadata": {},
   "source": [
    "I think I'm choosing to drop 'loan_number', 'origination_date', 'principal_balance', 'principal_paid', 'interest_paid', 'last_payment_date', 'next_payment_due_date', 'days_past_due', 'data_source' as per intuition I consider these columns to be non-relevant for the research question, either because they just serve to provide identification, are centered on dates, events or repetitive information that could be noiseful. There **will** be noise in the rest of columns but I consider them to have more important information in them, given their definitions, I'll use decision trees to evaluate their feature importance ranking."
   ]
  },
  {
   "cell_type": "code",
   "execution_count": 4,
   "metadata": {},
   "outputs": [
    {
     "data": {
      "text/plain": [
       "1635"
      ]
     },
     "execution_count": 4,
     "metadata": {},
     "output_type": "execute_result"
    }
   ],
   "source": [
    "len(pre_data['days_past_due'].unique())"
   ]
  },
  {
   "cell_type": "code",
   "execution_count": 7,
   "metadata": {},
   "outputs": [],
   "source": [
    "columns = ['loan_number', 'origination_date', 'principal_balance', 'principal_paid', 'interest_paid', 'last_payment_date', 'next_payment_due_date', 'days_past_due', 'data_source' ]\n",
    "data = pre_data.drop(columns, axis=1)"
   ]
  },
  {
   "cell_type": "code",
   "execution_count": 8,
   "metadata": {},
   "outputs": [
    {
     "data": {
      "text/html": [
       "<div>\n",
       "<style scoped>\n",
       "    .dataframe tbody tr th:only-of-type {\n",
       "        vertical-align: middle;\n",
       "    }\n",
       "\n",
       "    .dataframe tbody tr th {\n",
       "        vertical-align: top;\n",
       "    }\n",
       "\n",
       "    .dataframe thead th {\n",
       "        text-align: right;\n",
       "    }\n",
       "</style>\n",
       "<table border=\"1\" class=\"dataframe\">\n",
       "  <thead>\n",
       "    <tr style=\"text-align: right;\">\n",
       "      <th></th>\n",
       "      <th>amount_borrowed</th>\n",
       "      <th>term</th>\n",
       "      <th>borrower_rate</th>\n",
       "      <th>installment</th>\n",
       "      <th>grade</th>\n",
       "      <th>listing_title</th>\n",
       "      <th>late_fees_paid</th>\n",
       "      <th>debt_sale_proceeds_received</th>\n",
       "      <th>loan_status_description</th>\n",
       "    </tr>\n",
       "  </thead>\n",
       "  <tbody>\n",
       "    <tr>\n",
       "      <th>0</th>\n",
       "      <td>27050.0</td>\n",
       "      <td>36</td>\n",
       "      <td>0.1099</td>\n",
       "      <td>885.46</td>\n",
       "      <td>B</td>\n",
       "      <td>debt_consolidation</td>\n",
       "      <td>0.0</td>\n",
       "      <td>0.0</td>\n",
       "      <td>COMPLETED</td>\n",
       "    </tr>\n",
       "    <tr>\n",
       "      <th>1</th>\n",
       "      <td>4800.0</td>\n",
       "      <td>36</td>\n",
       "      <td>0.1099</td>\n",
       "      <td>157.13</td>\n",
       "      <td>B</td>\n",
       "      <td>home_improvement</td>\n",
       "      <td>0.0</td>\n",
       "      <td>0.0</td>\n",
       "      <td>COMPLETED</td>\n",
       "    </tr>\n",
       "    <tr>\n",
       "      <th>2</th>\n",
       "      <td>12000.0</td>\n",
       "      <td>36</td>\n",
       "      <td>0.0762</td>\n",
       "      <td>373.94</td>\n",
       "      <td>A</td>\n",
       "      <td>debt_consolidation</td>\n",
       "      <td>0.0</td>\n",
       "      <td>0.0</td>\n",
       "      <td>COMPLETED</td>\n",
       "    </tr>\n",
       "    <tr>\n",
       "      <th>3</th>\n",
       "      <td>12000.0</td>\n",
       "      <td>36</td>\n",
       "      <td>0.1199</td>\n",
       "      <td>398.52</td>\n",
       "      <td>B</td>\n",
       "      <td>debt_consolidation</td>\n",
       "      <td>0.0</td>\n",
       "      <td>0.0</td>\n",
       "      <td>COMPLETED</td>\n",
       "    </tr>\n",
       "    <tr>\n",
       "      <th>4</th>\n",
       "      <td>12000.0</td>\n",
       "      <td>36</td>\n",
       "      <td>0.0662</td>\n",
       "      <td>368.45</td>\n",
       "      <td>A</td>\n",
       "      <td>debt_consolidation</td>\n",
       "      <td>0.0</td>\n",
       "      <td>0.0</td>\n",
       "      <td>COMPLETED</td>\n",
       "    </tr>\n",
       "  </tbody>\n",
       "</table>\n",
       "</div>"
      ],
      "text/plain": [
       "   amount_borrowed  term  borrower_rate  installment grade  \\\n",
       "0          27050.0    36         0.1099       885.46     B   \n",
       "1           4800.0    36         0.1099       157.13     B   \n",
       "2          12000.0    36         0.0762       373.94     A   \n",
       "3          12000.0    36         0.1199       398.52     B   \n",
       "4          12000.0    36         0.0662       368.45     A   \n",
       "\n",
       "        listing_title  late_fees_paid  debt_sale_proceeds_received  \\\n",
       "0  debt_consolidation             0.0                          0.0   \n",
       "1    home_improvement             0.0                          0.0   \n",
       "2  debt_consolidation             0.0                          0.0   \n",
       "3  debt_consolidation             0.0                          0.0   \n",
       "4  debt_consolidation             0.0                          0.0   \n",
       "\n",
       "  loan_status_description  \n",
       "0               COMPLETED  \n",
       "1               COMPLETED  \n",
       "2               COMPLETED  \n",
       "3               COMPLETED  \n",
       "4               COMPLETED  "
      ]
     },
     "execution_count": 8,
     "metadata": {},
     "output_type": "execute_result"
    }
   ],
   "source": [
    "data.head()"
   ]
  },
  {
   "cell_type": "markdown",
   "metadata": {},
   "source": [
    "This is an interesting feature that could be important, I'm keeping it and assuming it's in months for later interpretation"
   ]
  },
  {
   "cell_type": "code",
   "execution_count": 7,
   "metadata": {},
   "outputs": [
    {
     "data": {
      "text/plain": [
       "array([36, 60, 12])"
      ]
     },
     "execution_count": 7,
     "metadata": {},
     "output_type": "execute_result"
    }
   ],
   "source": [
    "data['term'].unique()"
   ]
  },
  {
   "cell_type": "markdown",
   "metadata": {},
   "source": [
    "The loan status description could work as target variable using a dictionary to map 'completed' and 'current' loans as '1' (positive) and 'chargeoff', 'defaulted' and 'cancelled' as '0' (negative). On the basis that completed and current loans belong to clients that were good enough to payoff their loans or that haven't completed them but are punctual payers. All other categories (chargeoff, defaulted or cancelled) are bad for business."
   ]
  },
  {
   "cell_type": "code",
   "execution_count": 8,
   "metadata": {},
   "outputs": [
    {
     "data": {
      "text/plain": [
       "array(['COMPLETED', 'CHARGEOFF', 'CURRENT', 'DEFAULTED', 'CANCELLED'],\n",
       "      dtype=object)"
      ]
     },
     "execution_count": 8,
     "metadata": {},
     "output_type": "execute_result"
    }
   ],
   "source": [
    "data['loan_status_description'].unique()"
   ]
  },
  {
   "cell_type": "markdown",
   "metadata": {},
   "source": [
    "Creating a dictionary for the mapping task ('binary')"
   ]
  },
  {
   "cell_type": "code",
   "execution_count": 9,
   "metadata": {},
   "outputs": [],
   "source": [
    "status = data['loan_status_description'].unique()\n",
    "status_binary = [1,0,1,0,0]\n",
    "status_binary_map = dict(zip(status,status_binary))"
   ]
  },
  {
   "cell_type": "code",
   "execution_count": 10,
   "metadata": {},
   "outputs": [
    {
     "data": {
      "text/plain": [
       "{'COMPLETED': 1, 'CHARGEOFF': 0, 'CURRENT': 1, 'DEFAULTED': 0, 'CANCELLED': 0}"
      ]
     },
     "execution_count": 10,
     "metadata": {},
     "output_type": "execute_result"
    }
   ],
   "source": [
    "status_binary_map"
   ]
  },
  {
   "cell_type": "markdown",
   "metadata": {},
   "source": [
    "Creating a dictionary for the mapping task ('good or bad'), for plotting purposes"
   ]
  },
  {
   "cell_type": "code",
   "execution_count": 11,
   "metadata": {},
   "outputs": [],
   "source": [
    "status_text_map = {1:'good', 0:'bad'}"
   ]
  },
  {
   "cell_type": "code",
   "execution_count": 12,
   "metadata": {},
   "outputs": [
    {
     "data": {
      "text/plain": [
       "88.85399211031371"
      ]
     },
     "execution_count": 12,
     "metadata": {},
     "output_type": "execute_result"
    }
   ],
   "source": [
    "test = data['loan_status_description'].map(status_binary_map)\n",
    "test.sum()/test.count()*100"
   ]
  },
  {
   "cell_type": "markdown",
   "metadata": {},
   "source": [
    "**Interesting! Most loans (88.85%) are good loans!** That means it must be hard to pick up the bad ones...What happens if I drop the ones with 'CURRENT'? that are loans that could turn bad in the future?"
   ]
  },
  {
   "cell_type": "code",
   "execution_count": 12,
   "metadata": {},
   "outputs": [
    {
     "data": {
      "text/plain": [
       "48.05042943906153"
      ]
     },
     "execution_count": 12,
     "metadata": {},
     "output_type": "execute_result"
    }
   ],
   "source": [
    "mask = data['loan_status_description'] == 'CURRENT'\n",
    "len(data[mask])/len(data)*100"
   ]
  },
  {
   "cell_type": "markdown",
   "metadata": {},
   "source": [
    "Spoiler alert! This is gonna be an interesting choice to make, almost half of loans are current! The plot thickens, maybe I could add a filter or a side analysis to check how far on their payment schedule they are and see if it really is bad to take them into account. "
   ]
  },
  {
   "cell_type": "code",
   "execution_count": 13,
   "metadata": {},
   "outputs": [
    {
     "data": {
      "text/plain": [
       "78.54456202556732"
      ]
     },
     "execution_count": 13,
     "metadata": {},
     "output_type": "execute_result"
    }
   ],
   "source": [
    "test_frame = data[~mask]\n",
    "test = test_frame['loan_status_description'].map(status_binary_map)\n",
    "test.sum()/test.count()*100"
   ]
  },
  {
   "cell_type": "markdown",
   "metadata": {},
   "source": [
    "After dropping loans with status as current, the fraction of 'good' loans drops only 10%...I think I'll maintain the assumption that loans marked as 'CURRENT' are good for business loans, If later on the analysis this seems to be a risky assumption, I'll change my mind."
   ]
  },
  {
   "cell_type": "code",
   "execution_count": 14,
   "metadata": {},
   "outputs": [],
   "source": [
    "data['status_binary'] = data['loan_status_description'].map(status_binary_map)\n",
    "data['status_simplified'] = data['status_binary'].map(status_text_map)"
   ]
  },
  {
   "cell_type": "markdown",
   "metadata": {},
   "source": [
    "Listing title has some pretty interesting information, it may serve to explore if there is any clustering around loan grade for certain motives"
   ]
  },
  {
   "cell_type": "code",
   "execution_count": 15,
   "metadata": {},
   "outputs": [
    {
     "data": {
      "text/plain": [
       "array(['debt_consolidation', 'home_improvement', 'credit_card', 'other',\n",
       "       'major_purchase', 'small_business', 'house', 'moving', 'medical',\n",
       "       'car', 'vacation', 'renewable_energy', 'wedding', 'educational',\n",
       "       nan], dtype=object)"
      ]
     },
     "execution_count": 15,
     "metadata": {},
     "output_type": "execute_result"
    }
   ],
   "source": [
    "data.listing_title.unique()"
   ]
  },
  {
   "cell_type": "code",
   "execution_count": 16,
   "metadata": {},
   "outputs": [
    {
     "data": {
      "text/html": [
       "<div>\n",
       "<style scoped>\n",
       "    .dataframe tbody tr th:only-of-type {\n",
       "        vertical-align: middle;\n",
       "    }\n",
       "\n",
       "    .dataframe tbody tr th {\n",
       "        vertical-align: top;\n",
       "    }\n",
       "\n",
       "    .dataframe thead th {\n",
       "        text-align: right;\n",
       "    }\n",
       "</style>\n",
       "<table border=\"1\" class=\"dataframe\">\n",
       "  <thead>\n",
       "    <tr style=\"text-align: right;\">\n",
       "      <th></th>\n",
       "      <th>amount_borrowed</th>\n",
       "      <th>term</th>\n",
       "      <th>borrower_rate</th>\n",
       "      <th>installment</th>\n",
       "      <th>grade</th>\n",
       "      <th>listing_title</th>\n",
       "      <th>late_fees_paid</th>\n",
       "      <th>debt_sale_proceeds_received</th>\n",
       "      <th>loan_status_description</th>\n",
       "      <th>status_binary</th>\n",
       "      <th>status_simplified</th>\n",
       "    </tr>\n",
       "  </thead>\n",
       "  <tbody>\n",
       "    <tr>\n",
       "      <th>0</th>\n",
       "      <td>27050.0</td>\n",
       "      <td>36</td>\n",
       "      <td>0.1099</td>\n",
       "      <td>885.46</td>\n",
       "      <td>B</td>\n",
       "      <td>debt_consolidation</td>\n",
       "      <td>0.0</td>\n",
       "      <td>0.0</td>\n",
       "      <td>COMPLETED</td>\n",
       "      <td>1</td>\n",
       "      <td>good</td>\n",
       "    </tr>\n",
       "    <tr>\n",
       "      <th>1</th>\n",
       "      <td>4800.0</td>\n",
       "      <td>36</td>\n",
       "      <td>0.1099</td>\n",
       "      <td>157.13</td>\n",
       "      <td>B</td>\n",
       "      <td>home_improvement</td>\n",
       "      <td>0.0</td>\n",
       "      <td>0.0</td>\n",
       "      <td>COMPLETED</td>\n",
       "      <td>1</td>\n",
       "      <td>good</td>\n",
       "    </tr>\n",
       "    <tr>\n",
       "      <th>2</th>\n",
       "      <td>12000.0</td>\n",
       "      <td>36</td>\n",
       "      <td>0.0762</td>\n",
       "      <td>373.94</td>\n",
       "      <td>A</td>\n",
       "      <td>debt_consolidation</td>\n",
       "      <td>0.0</td>\n",
       "      <td>0.0</td>\n",
       "      <td>COMPLETED</td>\n",
       "      <td>1</td>\n",
       "      <td>good</td>\n",
       "    </tr>\n",
       "    <tr>\n",
       "      <th>3</th>\n",
       "      <td>12000.0</td>\n",
       "      <td>36</td>\n",
       "      <td>0.1199</td>\n",
       "      <td>398.52</td>\n",
       "      <td>B</td>\n",
       "      <td>debt_consolidation</td>\n",
       "      <td>0.0</td>\n",
       "      <td>0.0</td>\n",
       "      <td>COMPLETED</td>\n",
       "      <td>1</td>\n",
       "      <td>good</td>\n",
       "    </tr>\n",
       "    <tr>\n",
       "      <th>4</th>\n",
       "      <td>12000.0</td>\n",
       "      <td>36</td>\n",
       "      <td>0.0662</td>\n",
       "      <td>368.45</td>\n",
       "      <td>A</td>\n",
       "      <td>debt_consolidation</td>\n",
       "      <td>0.0</td>\n",
       "      <td>0.0</td>\n",
       "      <td>COMPLETED</td>\n",
       "      <td>1</td>\n",
       "      <td>good</td>\n",
       "    </tr>\n",
       "  </tbody>\n",
       "</table>\n",
       "</div>"
      ],
      "text/plain": [
       "   amount_borrowed  term  borrower_rate  installment grade  \\\n",
       "0          27050.0    36         0.1099       885.46     B   \n",
       "1           4800.0    36         0.1099       157.13     B   \n",
       "2          12000.0    36         0.0762       373.94     A   \n",
       "3          12000.0    36         0.1199       398.52     B   \n",
       "4          12000.0    36         0.0662       368.45     A   \n",
       "\n",
       "        listing_title  late_fees_paid  debt_sale_proceeds_received  \\\n",
       "0  debt_consolidation             0.0                          0.0   \n",
       "1    home_improvement             0.0                          0.0   \n",
       "2  debt_consolidation             0.0                          0.0   \n",
       "3  debt_consolidation             0.0                          0.0   \n",
       "4  debt_consolidation             0.0                          0.0   \n",
       "\n",
       "  loan_status_description  status_binary status_simplified  \n",
       "0               COMPLETED              1              good  \n",
       "1               COMPLETED              1              good  \n",
       "2               COMPLETED              1              good  \n",
       "3               COMPLETED              1              good  \n",
       "4               COMPLETED              1              good  "
      ]
     },
     "execution_count": 16,
     "metadata": {},
     "output_type": "execute_result"
    }
   ],
   "source": [
    "data.head()"
   ]
  },
  {
   "cell_type": "code",
   "execution_count": 18,
   "metadata": {},
   "outputs": [],
   "source": [
    "data['listing_title'] = data['listing_title'].fillna(value='unknown')"
   ]
  },
  {
   "cell_type": "code",
   "execution_count": 19,
   "metadata": {},
   "outputs": [
    {
     "data": {
      "text/plain": [
       "array(['debt_consolidation', 'home_improvement', 'credit_card', 'other',\n",
       "       'major_purchase', 'small_business', 'house', 'moving', 'medical',\n",
       "       'car', 'vacation', 'renewable_energy', 'wedding', 'educational',\n",
       "       'unknown'], dtype=object)"
      ]
     },
     "execution_count": 19,
     "metadata": {},
     "output_type": "execute_result"
    }
   ],
   "source": [
    "data.listing_title.unique()"
   ]
  },
  {
   "cell_type": "code",
   "execution_count": 23,
   "metadata": {},
   "outputs": [],
   "source": [
    "data.to_csv('data/cleaned_full_set.csv', index=False)"
   ]
  },
  {
   "cell_type": "markdown",
   "metadata": {},
   "source": [
    "Size reduced in half! Onto next notebook!"
   ]
  },
  {
   "cell_type": "markdown",
   "metadata": {},
   "source": [
    "----------------------------------------------------------------------------------------------------"
   ]
  },
  {
   "cell_type": "markdown",
   "metadata": {},
   "source": [
    "Saving imports for later sections when it makes more sense after doing an EDA. Probably moving onto a new notebook."
   ]
  },
  {
   "cell_type": "code",
   "execution_count": null,
   "metadata": {},
   "outputs": [],
   "source": [
    "from sklearn.model_selection import train_test_split\n",
    "from sklearn.linear_model import LogisticRegression\n",
    "from adspy_shared_utilities import (\n",
    "plot_class_regions_for_classifier_subplot)\n",
    "from sklearn.dummy import DummyClassifier\n",
    "from sklearn.metrics import confusion_matrix\n",
    "from sklearn.tree import DecisionTreeClassifier"
   ]
  }
 ],
 "metadata": {
  "kernelspec": {
   "display_name": "Python 3",
   "language": "python",
   "name": "python3"
  },
  "language_info": {
   "codemirror_mode": {
    "name": "ipython",
    "version": 3
   },
   "file_extension": ".py",
   "mimetype": "text/x-python",
   "name": "python",
   "nbconvert_exporter": "python",
   "pygments_lexer": "ipython3",
   "version": "3.8.5"
  }
 },
 "nbformat": 4,
 "nbformat_minor": 4
}
