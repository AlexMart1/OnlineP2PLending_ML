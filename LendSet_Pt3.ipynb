{
 "cells": [
  {
   "cell_type": "markdown",
   "metadata": {},
   "source": [
    "# Assignment A3.1"
   ]
  },
  {
   "cell_type": "markdown",
   "metadata": {},
   "source": [
    "Re-training the random forest model using feature selection, dropping columns that were deemed as the previous model as of little importance"
   ]
  },
  {
   "cell_type": "code",
   "execution_count": 8,
   "metadata": {},
   "outputs": [],
   "source": [
    "import pandas as pd\n",
    "pd.options.mode.chained_assignment = None \n",
    "import numpy as np\n",
    "import matplotlib.pyplot as plt\n",
    "import seaborn as sns\n",
    "sns.set()\n",
    "from sklearn.model_selection import train_test_split\n",
    "%matplotlib inline"
   ]
  },
  {
   "cell_type": "code",
   "execution_count": 2,
   "metadata": {},
   "outputs": [],
   "source": [
    "sample_df = pd.read_csv('data/sample_df.csv')\n",
    "sample_df = sample_df.drop(['listing_title_car', 'listing_title_credit_card',\n",
    "       'listing_title_debt_consolidation', 'listing_title_educational',\n",
    "       'listing_title_home_improvement', 'listing_title_house',\n",
    "       'listing_title_major_purchase', 'listing_title_medical',\n",
    "       'listing_title_moving', 'listing_title_other',\n",
    "       'listing_title_renewable_energy', 'listing_title_small_business',\n",
    "       'listing_title_unknown', 'listing_title_vacation',\n",
    "       'listing_title_wedding', 'term_12', 'term_36', 'term_60'], axis=1)\n",
    "\n",
    "X = sample_df.iloc[:,:-1]\n",
    "y = sample_df.iloc[:,-1]\n",
    "\n",
    "X_train, X_test, y_train, y_test = train_test_split(X, y, random_state=0)"
   ]
  },
  {
   "cell_type": "code",
   "execution_count": 3,
   "metadata": {},
   "outputs": [],
   "source": [
    "from sklearn.ensemble import RandomForestClassifier"
   ]
  },
  {
   "cell_type": "code",
   "execution_count": 4,
   "metadata": {},
   "outputs": [
    {
     "data": {
      "text/plain": [
       "RandomForestClassifier()"
      ]
     },
     "execution_count": 4,
     "metadata": {},
     "output_type": "execute_result"
    }
   ],
   "source": [
    "model = RandomForestClassifier()\n",
    "model.fit(X_train,y_train)"
   ]
  },
  {
   "cell_type": "code",
   "execution_count": 12,
   "metadata": {},
   "outputs": [
    {
     "name": "stdout",
     "output_type": "stream",
     "text": [
      "[0 1]\n"
     ]
    }
   ],
   "source": [
    "# Predict on training set\n",
    "pred_y = model.predict(X_train)\n",
    "# Is our model predicting just one class?\n",
    "print(np.unique(pred_y))"
   ]
  },
  {
   "cell_type": "code",
   "execution_count": 13,
   "metadata": {},
   "outputs": [
    {
     "name": "stdout",
     "output_type": "stream",
     "text": [
      "[0 1]\n"
     ]
    }
   ],
   "source": [
    "# Predict on test set\n",
    "pred_y = model.predict(X_test)\n",
    "# Is our model predicting just one class?\n",
    "print(np.unique(pred_y))"
   ]
  },
  {
   "cell_type": "code",
   "execution_count": 14,
   "metadata": {},
   "outputs": [],
   "source": [
    "from sklearn.metrics import accuracy_score"
   ]
  },
  {
   "cell_type": "code",
   "execution_count": 15,
   "metadata": {},
   "outputs": [
    {
     "name": "stdout",
     "output_type": "stream",
     "text": [
      "0.9172819009812833\n"
     ]
    }
   ],
   "source": [
    "# Predict on training set\n",
    "pred_y = model.predict(X_train)\n",
    "# How's our accuracy?\n",
    "print(accuracy_score(y_train, pred_y))"
   ]
  },
  {
   "cell_type": "code",
   "execution_count": 16,
   "metadata": {},
   "outputs": [
    {
     "name": "stdout",
     "output_type": "stream",
     "text": [
      "0.873620946312553\n"
     ]
    }
   ],
   "source": [
    "# Predict on test set\n",
    "pred_y = model.predict(X_test)\n",
    "# How's our accuracy?\n",
    "print(accuracy_score(y_test, pred_y))"
   ]
  },
  {
   "cell_type": "code",
   "execution_count": 17,
   "metadata": {},
   "outputs": [],
   "source": [
    "from sklearn.metrics import roc_auc_score"
   ]
  },
  {
   "cell_type": "code",
   "execution_count": 18,
   "metadata": {},
   "outputs": [
    {
     "name": "stdout",
     "output_type": "stream",
     "text": [
      "0.903815629168656\n"
     ]
    }
   ],
   "source": [
    "# What about AUROC? (train set)\n",
    "prob_y = model.predict_proba(X_train)\n",
    "prob_y = [p[1] for p in prob_y]\n",
    "print(roc_auc_score(y_train, prob_y))"
   ]
  },
  {
   "cell_type": "code",
   "execution_count": 19,
   "metadata": {},
   "outputs": [
    {
     "name": "stdout",
     "output_type": "stream",
     "text": [
      "0.6723881399819484\n"
     ]
    }
   ],
   "source": [
    "# What about AUROC? (test set)\n",
    "prob_y = model.predict_proba(X_test)\n",
    "prob_y = [p[1] for p in prob_y]\n",
    "print(roc_auc_score(y_test, prob_y))"
   ]
  },
  {
   "cell_type": "markdown",
   "metadata": {},
   "source": [
    "After feature dropping, auroc on test set went up 1%! (It still may be overfit, but its a start). Needs some tuning and evaluating how precision and recall are doing. For now, I'll just provide a word of caution on this and jump to do some plots."
   ]
  },
  {
   "cell_type": "code",
   "execution_count": 15,
   "metadata": {},
   "outputs": [
    {
     "data": {
      "text/html": [
       "<div>\n",
       "<style scoped>\n",
       "    .dataframe tbody tr th:only-of-type {\n",
       "        vertical-align: middle;\n",
       "    }\n",
       "\n",
       "    .dataframe tbody tr th {\n",
       "        vertical-align: top;\n",
       "    }\n",
       "\n",
       "    .dataframe thead th {\n",
       "        text-align: right;\n",
       "    }\n",
       "</style>\n",
       "<table border=\"1\" class=\"dataframe\">\n",
       "  <thead>\n",
       "    <tr style=\"text-align: right;\">\n",
       "      <th></th>\n",
       "      <th>Features</th>\n",
       "      <th>Ranking</th>\n",
       "    </tr>\n",
       "  </thead>\n",
       "  <tbody>\n",
       "    <tr>\n",
       "      <th>2</th>\n",
       "      <td>installment</td>\n",
       "      <td>0.399993</td>\n",
       "    </tr>\n",
       "    <tr>\n",
       "      <th>1</th>\n",
       "      <td>borrower_rate</td>\n",
       "      <td>0.294865</td>\n",
       "    </tr>\n",
       "    <tr>\n",
       "      <th>0</th>\n",
       "      <td>amount_borrowed</td>\n",
       "      <td>0.260727</td>\n",
       "    </tr>\n",
       "    <tr>\n",
       "      <th>3</th>\n",
       "      <td>grade_A</td>\n",
       "      <td>0.011626</td>\n",
       "    </tr>\n",
       "    <tr>\n",
       "      <th>7</th>\n",
       "      <td>grade_E</td>\n",
       "      <td>0.008176</td>\n",
       "    </tr>\n",
       "    <tr>\n",
       "      <th>8</th>\n",
       "      <td>grade_F</td>\n",
       "      <td>0.006505</td>\n",
       "    </tr>\n",
       "    <tr>\n",
       "      <th>4</th>\n",
       "      <td>grade_B</td>\n",
       "      <td>0.005578</td>\n",
       "    </tr>\n",
       "    <tr>\n",
       "      <th>6</th>\n",
       "      <td>grade_D</td>\n",
       "      <td>0.005465</td>\n",
       "    </tr>\n",
       "    <tr>\n",
       "      <th>5</th>\n",
       "      <td>grade_C</td>\n",
       "      <td>0.005055</td>\n",
       "    </tr>\n",
       "    <tr>\n",
       "      <th>9</th>\n",
       "      <td>grade_G</td>\n",
       "      <td>0.002011</td>\n",
       "    </tr>\n",
       "  </tbody>\n",
       "</table>\n",
       "</div>"
      ],
      "text/plain": [
       "          Features   Ranking\n",
       "2      installment  0.399993\n",
       "1    borrower_rate  0.294865\n",
       "0  amount_borrowed  0.260727\n",
       "3          grade_A  0.011626\n",
       "7          grade_E  0.008176\n",
       "8          grade_F  0.006505\n",
       "4          grade_B  0.005578\n",
       "6          grade_D  0.005465\n",
       "5          grade_C  0.005055\n",
       "9          grade_G  0.002011"
      ]
     },
     "execution_count": 15,
     "metadata": {},
     "output_type": "execute_result"
    }
   ],
   "source": [
    "# Feature names\n",
    "features = X_train.columns\n",
    "\n",
    "# Ranking calification of Decistion Tree model\n",
    "ranking = model.feature_importances_\n",
    "\n",
    "zipped = list(zip(features, ranking))\n",
    "\n",
    "df = pd.DataFrame(zipped, columns = ['Features', 'Ranking']) \n",
    "   \n",
    "# Order data according to ranking\n",
    "df = df.sort_values(by='Ranking', ascending=False)\n",
    "df"
   ]
  },
  {
   "cell_type": "code",
   "execution_count": 19,
   "metadata": {},
   "outputs": [
    {
     "data": {
      "text/plain": [
       "\u001b[0;31mSignature:\u001b[0m \u001b[0mplt\u001b[0m\u001b[0;34m.\u001b[0m\u001b[0mxticks\u001b[0m\u001b[0;34m(\u001b[0m\u001b[0mticks\u001b[0m\u001b[0;34m=\u001b[0m\u001b[0;32mNone\u001b[0m\u001b[0;34m,\u001b[0m \u001b[0mlabels\u001b[0m\u001b[0;34m=\u001b[0m\u001b[0;32mNone\u001b[0m\u001b[0;34m,\u001b[0m \u001b[0;34m**\u001b[0m\u001b[0mkwargs\u001b[0m\u001b[0;34m)\u001b[0m\u001b[0;34m\u001b[0m\u001b[0;34m\u001b[0m\u001b[0m\n",
       "\u001b[0;31mDocstring:\u001b[0m\n",
       "Get or set the current tick locations and labels of the x-axis.\n",
       "\n",
       "Call signatures::\n",
       "\n",
       "    locs, labels = xticks()            # Get locations and labels\n",
       "    xticks(ticks, [labels], **kwargs)  # Set locations and labels\n",
       "\n",
       "Parameters\n",
       "----------\n",
       "ticks : array_like\n",
       "    A list of positions at which ticks should be placed. You can pass an\n",
       "    empty list to disable xticks.\n",
       "\n",
       "labels : array_like, optional\n",
       "    A list of explicit labels to place at the given *locs*.\n",
       "\n",
       "**kwargs\n",
       "    :class:`.Text` properties can be used to control the appearance of\n",
       "    the labels.\n",
       "\n",
       "Returns\n",
       "-------\n",
       "locs\n",
       "    An array of label locations.\n",
       "labels\n",
       "    A list of `.Text` objects.\n",
       "\n",
       "Notes\n",
       "-----\n",
       "Calling this function with no arguments (e.g. ``xticks()``) is the pyplot\n",
       "equivalent of calling `~.Axes.get_xticks` and `~.Axes.get_xticklabels` on\n",
       "the current axes.\n",
       "Calling this function with arguments is the pyplot equivalent of calling\n",
       "`~.Axes.set_xticks` and `~.Axes.set_xticklabels` on the current axes.\n",
       "\n",
       "Examples\n",
       "--------\n",
       "Get the current locations and labels:\n",
       "\n",
       "    >>> locs, labels = xticks()\n",
       "\n",
       "Set label locations:\n",
       "\n",
       "    >>> xticks(np.arange(0, 1, step=0.2))\n",
       "\n",
       "Set text labels:\n",
       "\n",
       "    >>> xticks(np.arange(5), ('Tom', 'Dick', 'Harry', 'Sally', 'Sue'))\n",
       "\n",
       "Set text labels and properties:\n",
       "\n",
       "    >>> xticks(np.arange(12), calendar.month_name[1:13], rotation=20)\n",
       "\n",
       "Disable xticks:\n",
       "\n",
       "    >>> xticks([])\n",
       "\u001b[0;31mFile:\u001b[0m      ~/anaconda3/envs/DataPy/lib/python3.8/site-packages/matplotlib/pyplot.py\n",
       "\u001b[0;31mType:\u001b[0m      function\n"
      ]
     },
     "metadata": {},
     "output_type": "display_data"
    }
   ],
   "source": [
    "plt.xticks?"
   ]
  },
  {
   "cell_type": "code",
   "execution_count": 41,
   "metadata": {},
   "outputs": [
    {
     "data": {
      "image/png": "[encoded data removed]",
      "text/plain": [
       "<Figure size 1008x432 with 1 Axes>"
      ]
     },
     "metadata": {
      "needs_background": "light"
     },
     "output_type": "display_data"
    }
   ],
   "source": [
    "fig, ax = plt.subplots(figsize=(14,6))\n",
    "labels = df['Features']\n",
    "pos = np.arange(len(labels))\n",
    "values=df['Ranking']\n",
    "colors = ['black','black', 'black', 'black']\n",
    "colors.extend(['grey']*(len(labels)-4))\n",
    "ax.barh(labels, values, color=colors)\n",
    "plt.xlabel('Ranking of feature', fontsize=18)\n",
    "plt.yticks(pos, labels, alpha = 0.8, fontsize=14)\n",
    "ax.invert_yaxis()\n",
    "plt.savefig('graphics/FeatureRanking_General.png')"
   ]
  },
  {
   "cell_type": "markdown",
   "metadata": {},
   "source": [
    "Another way to interpret this result is that grade of risk has a very low impact on the target variable. While installment has the highest and borrower_rate together with amount_borrowed have more or less similar importance. This could be an interesting insight, depending on the visualization, we may end up with some interesting graphs, the amount borrowed has the lowest impact out of the three of them.\n",
    "\n",
    "Next question: ¿What could be the best combination of installment, borrower rate and amount borrowed that separates a good loan from one that will be defaulted?\n",
    "\n",
    "A given but a visualization of it could be useful anyway, is that borrowers rated with grade A risk are indeed on low risk of defaulting their loans, but a surprising turn is that downwards from there, grades do not say much on the probability of it. That is very interesting\n",
    "\n",
    "https://www.investopedia.com/articles/personal-finance/072316/how-installment-loans-work.asp"
   ]
  },
  {
   "cell_type": "code",
   "execution_count": 6,
   "metadata": {},
   "outputs": [],
   "source": [
    "plot_df = sample_df.sample(frac=0.01)"
   ]
  },
  {
   "cell_type": "code",
   "execution_count": 7,
   "metadata": {},
   "outputs": [],
   "source": [
    "plot_df.to_csv('data/plot_df.csv', index=False)"
   ]
  },
  {
   "cell_type": "markdown",
   "metadata": {},
   "source": [
    "----------------------------------------------------------------------------------------------------"
   ]
  },
  {
   "cell_type": "markdown",
   "metadata": {},
   "source": [
    "Trying idea on training a Random Forest Classifier in a set where the grades are reduced to either A or not A"
   ]
  },
  {
   "cell_type": "code",
   "execution_count": 5,
   "metadata": {},
   "outputs": [],
   "source": [
    "X = sample_df.iloc[:,:-1]\n",
    "y = sample_df.iloc[:,-1]\n",
    "\n",
    "X_train, X_test, y_train, y_test = train_test_split(X, y, random_state=0)"
   ]
  },
  {
   "cell_type": "code",
   "execution_count": 9,
   "metadata": {},
   "outputs": [
    {
     "data": {
      "text/html": [
       "<div>\n",
       "<style scoped>\n",
       "    .dataframe tbody tr th:only-of-type {\n",
       "        vertical-align: middle;\n",
       "    }\n",
       "\n",
       "    .dataframe tbody tr th {\n",
       "        vertical-align: top;\n",
       "    }\n",
       "\n",
       "    .dataframe thead th {\n",
       "        text-align: right;\n",
       "    }\n",
       "</style>\n",
       "<table border=\"1\" class=\"dataframe\">\n",
       "  <thead>\n",
       "    <tr style=\"text-align: right;\">\n",
       "      <th></th>\n",
       "      <th>amount_borrowed</th>\n",
       "      <th>borrower_rate</th>\n",
       "      <th>installment</th>\n",
       "      <th>grade_A</th>\n",
       "      <th>grade_B</th>\n",
       "      <th>grade_C</th>\n",
       "      <th>grade_D</th>\n",
       "      <th>grade_E</th>\n",
       "      <th>grade_F</th>\n",
       "      <th>grade_G</th>\n",
       "      <th>status_binary</th>\n",
       "    </tr>\n",
       "  </thead>\n",
       "  <tbody>\n",
       "    <tr>\n",
       "      <th>0</th>\n",
       "      <td>9425.0</td>\n",
       "      <td>0.1449</td>\n",
       "      <td>324.380000</td>\n",
       "      <td>0</td>\n",
       "      <td>0</td>\n",
       "      <td>1</td>\n",
       "      <td>0</td>\n",
       "      <td>0</td>\n",
       "      <td>0</td>\n",
       "      <td>0</td>\n",
       "      <td>1</td>\n",
       "    </tr>\n",
       "    <tr>\n",
       "      <th>1</th>\n",
       "      <td>8500.0</td>\n",
       "      <td>0.0532</td>\n",
       "      <td>255.980000</td>\n",
       "      <td>1</td>\n",
       "      <td>0</td>\n",
       "      <td>0</td>\n",
       "      <td>0</td>\n",
       "      <td>0</td>\n",
       "      <td>0</td>\n",
       "      <td>0</td>\n",
       "      <td>1</td>\n",
       "    </tr>\n",
       "    <tr>\n",
       "      <th>2</th>\n",
       "      <td>10000.0</td>\n",
       "      <td>0.1199</td>\n",
       "      <td>222.393947</td>\n",
       "      <td>0</td>\n",
       "      <td>0</td>\n",
       "      <td>1</td>\n",
       "      <td>0</td>\n",
       "      <td>0</td>\n",
       "      <td>0</td>\n",
       "      <td>0</td>\n",
       "      <td>1</td>\n",
       "    </tr>\n",
       "    <tr>\n",
       "      <th>3</th>\n",
       "      <td>10000.0</td>\n",
       "      <td>0.1081</td>\n",
       "      <td>326.488134</td>\n",
       "      <td>0</td>\n",
       "      <td>0</td>\n",
       "      <td>1</td>\n",
       "      <td>0</td>\n",
       "      <td>0</td>\n",
       "      <td>0</td>\n",
       "      <td>0</td>\n",
       "      <td>1</td>\n",
       "    </tr>\n",
       "    <tr>\n",
       "      <th>4</th>\n",
       "      <td>10000.0</td>\n",
       "      <td>0.1005</td>\n",
       "      <td>322.906670</td>\n",
       "      <td>0</td>\n",
       "      <td>1</td>\n",
       "      <td>0</td>\n",
       "      <td>0</td>\n",
       "      <td>0</td>\n",
       "      <td>0</td>\n",
       "      <td>0</td>\n",
       "      <td>0</td>\n",
       "    </tr>\n",
       "  </tbody>\n",
       "</table>\n",
       "</div>"
      ],
      "text/plain": [
       "   amount_borrowed  borrower_rate  installment  grade_A  grade_B  grade_C  \\\n",
       "0           9425.0         0.1449   324.380000        0        0        1   \n",
       "1           8500.0         0.0532   255.980000        1        0        0   \n",
       "2          10000.0         0.1199   222.393947        0        0        1   \n",
       "3          10000.0         0.1081   326.488134        0        0        1   \n",
       "4          10000.0         0.1005   322.906670        0        1        0   \n",
       "\n",
       "   grade_D  grade_E  grade_F  grade_G  status_binary  \n",
       "0        0        0        0        0              1  \n",
       "1        0        0        0        0              1  \n",
       "2        0        0        0        0              1  \n",
       "3        0        0        0        0              1  \n",
       "4        0        0        0        0              0  "
      ]
     },
     "execution_count": 9,
     "metadata": {},
     "output_type": "execute_result"
    }
   ],
   "source": [
    "sample_df.head()"
   ]
  },
  {
   "cell_type": "code",
   "execution_count": 10,
   "metadata": {},
   "outputs": [],
   "source": [
    "binary_mirror = {0:1, 1:0}"
   ]
  },
  {
   "cell_type": "code",
   "execution_count": 11,
   "metadata": {},
   "outputs": [
    {
     "data": {
      "text/html": [
       "<div>\n",
       "<style scoped>\n",
       "    .dataframe tbody tr th:only-of-type {\n",
       "        vertical-align: middle;\n",
       "    }\n",
       "\n",
       "    .dataframe tbody tr th {\n",
       "        vertical-align: top;\n",
       "    }\n",
       "\n",
       "    .dataframe thead th {\n",
       "        text-align: right;\n",
       "    }\n",
       "</style>\n",
       "<table border=\"1\" class=\"dataframe\">\n",
       "  <thead>\n",
       "    <tr style=\"text-align: right;\">\n",
       "      <th></th>\n",
       "      <th>amount_borrowed</th>\n",
       "      <th>borrower_rate</th>\n",
       "      <th>installment</th>\n",
       "      <th>grade_A</th>\n",
       "      <th>grade_notA</th>\n",
       "      <th>status_binary</th>\n",
       "    </tr>\n",
       "  </thead>\n",
       "  <tbody>\n",
       "    <tr>\n",
       "      <th>0</th>\n",
       "      <td>9425.0</td>\n",
       "      <td>0.1449</td>\n",
       "      <td>324.380000</td>\n",
       "      <td>0</td>\n",
       "      <td>1</td>\n",
       "      <td>1</td>\n",
       "    </tr>\n",
       "    <tr>\n",
       "      <th>1</th>\n",
       "      <td>8500.0</td>\n",
       "      <td>0.0532</td>\n",
       "      <td>255.980000</td>\n",
       "      <td>1</td>\n",
       "      <td>0</td>\n",
       "      <td>1</td>\n",
       "    </tr>\n",
       "    <tr>\n",
       "      <th>2</th>\n",
       "      <td>10000.0</td>\n",
       "      <td>0.1199</td>\n",
       "      <td>222.393947</td>\n",
       "      <td>0</td>\n",
       "      <td>1</td>\n",
       "      <td>1</td>\n",
       "    </tr>\n",
       "    <tr>\n",
       "      <th>3</th>\n",
       "      <td>10000.0</td>\n",
       "      <td>0.1081</td>\n",
       "      <td>326.488134</td>\n",
       "      <td>0</td>\n",
       "      <td>1</td>\n",
       "      <td>1</td>\n",
       "    </tr>\n",
       "    <tr>\n",
       "      <th>4</th>\n",
       "      <td>10000.0</td>\n",
       "      <td>0.1005</td>\n",
       "      <td>322.906670</td>\n",
       "      <td>0</td>\n",
       "      <td>1</td>\n",
       "      <td>0</td>\n",
       "    </tr>\n",
       "  </tbody>\n",
       "</table>\n",
       "</div>"
      ],
      "text/plain": [
       "   amount_borrowed  borrower_rate  installment  grade_A  grade_notA  \\\n",
       "0           9425.0         0.1449   324.380000        0           1   \n",
       "1           8500.0         0.0532   255.980000        1           0   \n",
       "2          10000.0         0.1199   222.393947        0           1   \n",
       "3          10000.0         0.1081   326.488134        0           1   \n",
       "4          10000.0         0.1005   322.906670        0           1   \n",
       "\n",
       "   status_binary  \n",
       "0              1  \n",
       "1              1  \n",
       "2              1  \n",
       "3              1  \n",
       "4              0  "
      ]
     },
     "execution_count": 11,
     "metadata": {},
     "output_type": "execute_result"
    }
   ],
   "source": [
    "sample_df2 = sample_df.iloc[:,0:4]\n",
    "sample_df2['grade_notA'] = sample_df['grade_A'].map(binary_mirror)\n",
    "sample_df2 = pd.concat([sample_df2, sample_df.iloc[:,-1]], axis=1)\n",
    "sample_df2.head()"
   ]
  },
  {
   "cell_type": "code",
   "execution_count": 12,
   "metadata": {},
   "outputs": [],
   "source": [
    "X = sample_df2.iloc[:,:-1]\n",
    "y = sample_df2.iloc[:,-1]"
   ]
  },
  {
   "cell_type": "code",
   "execution_count": 13,
   "metadata": {},
   "outputs": [],
   "source": [
    "X_train, X_test, y_train, y_test = train_test_split(X, y, random_state=0)"
   ]
  },
  {
   "cell_type": "code",
   "execution_count": 54,
   "metadata": {},
   "outputs": [
    {
     "data": {
      "text/plain": [
       "RandomForestClassifier()"
      ]
     },
     "execution_count": 54,
     "metadata": {},
     "output_type": "execute_result"
    }
   ],
   "source": [
    "model = RandomForestClassifier()\n",
    "model.fit(X_train,y_train)"
   ]
  },
  {
   "cell_type": "code",
   "execution_count": 55,
   "metadata": {},
   "outputs": [
    {
     "name": "stdout",
     "output_type": "stream",
     "text": [
      "[0 1]\n"
     ]
    }
   ],
   "source": [
    "# Predict on test set\n",
    "pred_y = model.predict(X_test)\n",
    "# Is our model predicting just one class?\n",
    "print(np.unique(pred_y))"
   ]
  },
  {
   "cell_type": "code",
   "execution_count": 56,
   "metadata": {},
   "outputs": [
    {
     "name": "stdout",
     "output_type": "stream",
     "text": [
      "0.6667232922749963\n"
     ]
    }
   ],
   "source": [
    "# What about AUROC? (test set)\n",
    "prob_y = model.predict_proba(X_test)\n",
    "prob_y = [p[1] for p in prob_y]\n",
    "print(roc_auc_score(y_test, prob_y))"
   ]
  },
  {
   "cell_type": "code",
   "execution_count": 57,
   "metadata": {},
   "outputs": [
    {
     "data": {
      "text/html": [
       "<div>\n",
       "<style scoped>\n",
       "    .dataframe tbody tr th:only-of-type {\n",
       "        vertical-align: middle;\n",
       "    }\n",
       "\n",
       "    .dataframe tbody tr th {\n",
       "        vertical-align: top;\n",
       "    }\n",
       "\n",
       "    .dataframe thead th {\n",
       "        text-align: right;\n",
       "    }\n",
       "</style>\n",
       "<table border=\"1\" class=\"dataframe\">\n",
       "  <thead>\n",
       "    <tr style=\"text-align: right;\">\n",
       "      <th></th>\n",
       "      <th>Feature</th>\n",
       "      <th>Ranking</th>\n",
       "    </tr>\n",
       "  </thead>\n",
       "  <tbody>\n",
       "    <tr>\n",
       "      <th>2</th>\n",
       "      <td>installment</td>\n",
       "      <td>0.415548</td>\n",
       "    </tr>\n",
       "    <tr>\n",
       "      <th>1</th>\n",
       "      <td>borrower_rate</td>\n",
       "      <td>0.333925</td>\n",
       "    </tr>\n",
       "    <tr>\n",
       "      <th>0</th>\n",
       "      <td>amount_borrowed</td>\n",
       "      <td>0.234437</td>\n",
       "    </tr>\n",
       "    <tr>\n",
       "      <th>3</th>\n",
       "      <td>grade_A</td>\n",
       "      <td>0.009995</td>\n",
       "    </tr>\n",
       "    <tr>\n",
       "      <th>4</th>\n",
       "      <td>grade_notA</td>\n",
       "      <td>0.006095</td>\n",
       "    </tr>\n",
       "  </tbody>\n",
       "</table>\n",
       "</div>"
      ],
      "text/plain": [
       "           Feature   Ranking\n",
       "2      installment  0.415548\n",
       "1    borrower_rate  0.333925\n",
       "0  amount_borrowed  0.234437\n",
       "3          grade_A  0.009995\n",
       "4       grade_notA  0.006095"
      ]
     },
     "execution_count": 57,
     "metadata": {},
     "output_type": "execute_result"
    }
   ],
   "source": [
    "# Feature names\n",
    "features = X_train.columns\n",
    "\n",
    "# Ranking calification of Decistion Tree model\n",
    "ranking = model.feature_importances_\n",
    "\n",
    "zipped = list(zip(features, ranking))\n",
    "\n",
    "df = pd.DataFrame(zipped, columns = ['Feature', 'Ranking']) \n",
    "   \n",
    "# Order data according to ranking\n",
    "df.sort_values(by='Ranking', ascending=False)"
   ]
  },
  {
   "cell_type": "code",
   "execution_count": 15,
   "metadata": {},
   "outputs": [
    {
     "data": {
      "text/html": [
       "<div>\n",
       "<style scoped>\n",
       "    .dataframe tbody tr th:only-of-type {\n",
       "        vertical-align: middle;\n",
       "    }\n",
       "\n",
       "    .dataframe tbody tr th {\n",
       "        vertical-align: top;\n",
       "    }\n",
       "\n",
       "    .dataframe thead th {\n",
       "        text-align: right;\n",
       "    }\n",
       "</style>\n",
       "<table border=\"1\" class=\"dataframe\">\n",
       "  <thead>\n",
       "    <tr style=\"text-align: right;\">\n",
       "      <th></th>\n",
       "      <th>amount_borrowed</th>\n",
       "      <th>borrower_rate</th>\n",
       "      <th>installment</th>\n",
       "      <th>grade_A</th>\n",
       "      <th>status_binary</th>\n",
       "    </tr>\n",
       "  </thead>\n",
       "  <tbody>\n",
       "    <tr>\n",
       "      <th>0</th>\n",
       "      <td>9425.0</td>\n",
       "      <td>0.1449</td>\n",
       "      <td>324.380000</td>\n",
       "      <td>0</td>\n",
       "      <td>1</td>\n",
       "    </tr>\n",
       "    <tr>\n",
       "      <th>1</th>\n",
       "      <td>8500.0</td>\n",
       "      <td>0.0532</td>\n",
       "      <td>255.980000</td>\n",
       "      <td>1</td>\n",
       "      <td>1</td>\n",
       "    </tr>\n",
       "    <tr>\n",
       "      <th>2</th>\n",
       "      <td>10000.0</td>\n",
       "      <td>0.1199</td>\n",
       "      <td>222.393947</td>\n",
       "      <td>0</td>\n",
       "      <td>1</td>\n",
       "    </tr>\n",
       "    <tr>\n",
       "      <th>3</th>\n",
       "      <td>10000.0</td>\n",
       "      <td>0.1081</td>\n",
       "      <td>326.488134</td>\n",
       "      <td>0</td>\n",
       "      <td>1</td>\n",
       "    </tr>\n",
       "    <tr>\n",
       "      <th>4</th>\n",
       "      <td>10000.0</td>\n",
       "      <td>0.1005</td>\n",
       "      <td>322.906670</td>\n",
       "      <td>0</td>\n",
       "      <td>0</td>\n",
       "    </tr>\n",
       "  </tbody>\n",
       "</table>\n",
       "</div>"
      ],
      "text/plain": [
       "   amount_borrowed  borrower_rate  installment  grade_A  status_binary\n",
       "0           9425.0         0.1449   324.380000        0              1\n",
       "1           8500.0         0.0532   255.980000        1              1\n",
       "2          10000.0         0.1199   222.393947        0              1\n",
       "3          10000.0         0.1081   326.488134        0              1\n",
       "4          10000.0         0.1005   322.906670        0              0"
      ]
     },
     "execution_count": 15,
     "metadata": {},
     "output_type": "execute_result"
    }
   ],
   "source": [
    "sample_df2 = sample_df.iloc[:,0:4]\n",
    "sample_df2 = pd.concat([sample_df2, sample_df.iloc[:,-1]], axis=1)\n",
    "sample_df2.head()"
   ]
  },
  {
   "cell_type": "code",
   "execution_count": 16,
   "metadata": {},
   "outputs": [],
   "source": [
    "sample_df2.to_csv('data/regraded_sample_df.csv', index=False)"
   ]
  }
 ],
 "metadata": {
  "kernelspec": {
   "display_name": "Python 3",
   "language": "python",
   "name": "python3"
  },
  "language_info": {
   "codemirror_mode": {
    "name": "ipython",
    "version": 3
   },
   "file_extension": ".py",
   "mimetype": "text/x-python",
   "name": "python",
   "nbconvert_exporter": "python",
   "pygments_lexer": "ipython3",
   "version": "3.8.5"
  }
 },
 "nbformat": 4,
 "nbformat_minor": 4
}
