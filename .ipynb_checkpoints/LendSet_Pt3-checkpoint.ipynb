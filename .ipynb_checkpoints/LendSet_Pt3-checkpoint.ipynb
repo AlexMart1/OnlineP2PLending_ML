{
 "cells": [
  {
   "cell_type": "markdown",
   "metadata": {},
   "source": [
    "# Assignment A3.1"
   ]
  },
  {
   "cell_type": "markdown",
   "metadata": {},
   "source": [
    "Tuning the random forest model using feature selection, dropping columns that were deemed as the previous model as of little importance"
   ]
  },
  {
   "cell_type": "code",
   "execution_count": 1,
   "metadata": {},
   "outputs": [],
   "source": [
    "import pandas as pd\n",
    "pd.options.mode.chained_assignment = None \n",
    "import numpy as np\n",
    "import matplotlib.pyplot as plt\n",
    "import seaborn as sns\n",
    "from sklearn.model_selection import train_test_split\n",
    "%matplotlib inline"
   ]
  },
  {
   "cell_type": "code",
   "execution_count": 2,
   "metadata": {},
   "outputs": [],
   "source": [
    "sample_df = pd.read_csv('data/sample_df.csv')"
   ]
  },
  {
   "cell_type": "code",
   "execution_count": 6,
   "metadata": {},
   "outputs": [],
   "source": [
    "sample_df = sample_df.drop(['listing_title_car', 'listing_title_credit_card',\n",
    "       'listing_title_debt_consolidation', 'listing_title_educational',\n",
    "       'listing_title_home_improvement', 'listing_title_house',\n",
    "       'listing_title_major_purchase', 'listing_title_medical',\n",
    "       'listing_title_moving', 'listing_title_other',\n",
    "       'listing_title_renewable_energy', 'listing_title_small_business',\n",
    "       'listing_title_unknown', 'listing_title_vacation',\n",
    "       'listing_title_wedding', 'term_12', 'term_36', 'term_60'], axis=1)"
   ]
  },
  {
   "cell_type": "code",
   "execution_count": 7,
   "metadata": {},
   "outputs": [],
   "source": [
    "X = sample_df.iloc[:,:-1]\n",
    "y = sample_df.iloc[:,-1]"
   ]
  },
  {
   "cell_type": "code",
   "execution_count": 8,
   "metadata": {},
   "outputs": [],
   "source": [
    "X_train, X_test, y_train, y_test = train_test_split(X, y, random_state=0)"
   ]
  },
  {
   "cell_type": "code",
   "execution_count": 10,
   "metadata": {},
   "outputs": [],
   "source": [
    "from sklearn.ensemble import RandomForestClassifier"
   ]
  },
  {
   "cell_type": "code",
   "execution_count": 11,
   "metadata": {},
   "outputs": [
    {
     "data": {
      "text/plain": [
       "RandomForestClassifier()"
      ]
     },
     "execution_count": 11,
     "metadata": {},
     "output_type": "execute_result"
    }
   ],
   "source": [
    "model = RandomForestClassifier()\n",
    "model.fit(X_train,y_train)"
   ]
  },
  {
   "cell_type": "code",
   "execution_count": 12,
   "metadata": {},
   "outputs": [
    {
     "name": "stdout",
     "output_type": "stream",
     "text": [
      "[0 1]\n"
     ]
    }
   ],
   "source": [
    "# Predict on training set\n",
    "pred_y = model.predict(X_train)\n",
    "# Is our model predicting just one class?\n",
    "print(np.unique(pred_y))"
   ]
  },
  {
   "cell_type": "code",
   "execution_count": 13,
   "metadata": {},
   "outputs": [
    {
     "name": "stdout",
     "output_type": "stream",
     "text": [
      "[0 1]\n"
     ]
    }
   ],
   "source": [
    "# Predict on test set\n",
    "pred_y = model.predict(X_test)\n",
    "# Is our model predicting just one class?\n",
    "print(np.unique(pred_y))"
   ]
  },
  {
   "cell_type": "code",
   "execution_count": 14,
   "metadata": {},
   "outputs": [],
   "source": [
    "from sklearn.metrics import accuracy_score"
   ]
  },
  {
   "cell_type": "code",
   "execution_count": 15,
   "metadata": {},
   "outputs": [
    {
     "name": "stdout",
     "output_type": "stream",
     "text": [
      "0.9172819009812833\n"
     ]
    }
   ],
   "source": [
    "# Predict on training set\n",
    "pred_y = model.predict(X_train)\n",
    "# How's our accuracy?\n",
    "print(accuracy_score(y_train, pred_y))"
   ]
  },
  {
   "cell_type": "code",
   "execution_count": 16,
   "metadata": {},
   "outputs": [
    {
     "name": "stdout",
     "output_type": "stream",
     "text": [
      "0.873620946312553\n"
     ]
    }
   ],
   "source": [
    "# Predict on test set\n",
    "pred_y = model.predict(X_test)\n",
    "# How's our accuracy?\n",
    "print(accuracy_score(y_test, pred_y))"
   ]
  },
  {
   "cell_type": "code",
   "execution_count": 17,
   "metadata": {},
   "outputs": [],
   "source": [
    "from sklearn.metrics import roc_auc_score"
   ]
  },
  {
   "cell_type": "code",
   "execution_count": 18,
   "metadata": {},
   "outputs": [
    {
     "name": "stdout",
     "output_type": "stream",
     "text": [
      "0.903815629168656\n"
     ]
    }
   ],
   "source": [
    "# What about AUROC? (train set)\n",
    "prob_y = model.predict_proba(X_train)\n",
    "prob_y = [p[1] for p in prob_y]\n",
    "print(roc_auc_score(y_train, prob_y))"
   ]
  },
  {
   "cell_type": "code",
   "execution_count": 19,
   "metadata": {},
   "outputs": [
    {
     "name": "stdout",
     "output_type": "stream",
     "text": [
      "0.6723881399819484\n"
     ]
    }
   ],
   "source": [
    "# What about AUROC? (test set)\n",
    "prob_y = model.predict_proba(X_test)\n",
    "prob_y = [p[1] for p in prob_y]\n",
    "print(roc_auc_score(y_test, prob_y))"
   ]
  },
  {
   "cell_type": "markdown",
   "metadata": {},
   "source": [
    "After feature dropping, auroc on test set went up 1%! (It still may be overfit, but its a start). Needs some tuning and evaluating how precision and recall are doing. For now, I'll just provide a word of caution on this and jump to do some plots."
   ]
  },
  {
   "cell_type": "code",
   "execution_count": 21,
   "metadata": {},
   "outputs": [
    {
     "data": {
      "text/html": [
       "<div>\n",
       "<style scoped>\n",
       "    .dataframe tbody tr th:only-of-type {\n",
       "        vertical-align: middle;\n",
       "    }\n",
       "\n",
       "    .dataframe tbody tr th {\n",
       "        vertical-align: top;\n",
       "    }\n",
       "\n",
       "    .dataframe thead th {\n",
       "        text-align: right;\n",
       "    }\n",
       "</style>\n",
       "<table border=\"1\" class=\"dataframe\">\n",
       "  <thead>\n",
       "    <tr style=\"text-align: right;\">\n",
       "      <th></th>\n",
       "      <th>Feature</th>\n",
       "      <th>Ranking</th>\n",
       "    </tr>\n",
       "  </thead>\n",
       "  <tbody>\n",
       "    <tr>\n",
       "      <th>2</th>\n",
       "      <td>installment</td>\n",
       "      <td>0.400503</td>\n",
       "    </tr>\n",
       "    <tr>\n",
       "      <th>1</th>\n",
       "      <td>borrower_rate</td>\n",
       "      <td>0.292889</td>\n",
       "    </tr>\n",
       "    <tr>\n",
       "      <th>0</th>\n",
       "      <td>amount_borrowed</td>\n",
       "      <td>0.262696</td>\n",
       "    </tr>\n",
       "    <tr>\n",
       "      <th>3</th>\n",
       "      <td>grade_A</td>\n",
       "      <td>0.012928</td>\n",
       "    </tr>\n",
       "    <tr>\n",
       "      <th>7</th>\n",
       "      <td>grade_E</td>\n",
       "      <td>0.006968</td>\n",
       "    </tr>\n",
       "    <tr>\n",
       "      <th>4</th>\n",
       "      <td>grade_B</td>\n",
       "      <td>0.006562</td>\n",
       "    </tr>\n",
       "    <tr>\n",
       "      <th>8</th>\n",
       "      <td>grade_F</td>\n",
       "      <td>0.006007</td>\n",
       "    </tr>\n",
       "    <tr>\n",
       "      <th>6</th>\n",
       "      <td>grade_D</td>\n",
       "      <td>0.004982</td>\n",
       "    </tr>\n",
       "    <tr>\n",
       "      <th>5</th>\n",
       "      <td>grade_C</td>\n",
       "      <td>0.004785</td>\n",
       "    </tr>\n",
       "    <tr>\n",
       "      <th>9</th>\n",
       "      <td>grade_G</td>\n",
       "      <td>0.001681</td>\n",
       "    </tr>\n",
       "  </tbody>\n",
       "</table>\n",
       "</div>"
      ],
      "text/plain": [
       "           Feature   Ranking\n",
       "2      installment  0.400503\n",
       "1    borrower_rate  0.292889\n",
       "0  amount_borrowed  0.262696\n",
       "3          grade_A  0.012928\n",
       "7          grade_E  0.006968\n",
       "4          grade_B  0.006562\n",
       "8          grade_F  0.006007\n",
       "6          grade_D  0.004982\n",
       "5          grade_C  0.004785\n",
       "9          grade_G  0.001681"
      ]
     },
     "execution_count": 21,
     "metadata": {},
     "output_type": "execute_result"
    }
   ],
   "source": [
    "# Feature names\n",
    "features = X_train.columns\n",
    "\n",
    "# Ranking calification of Decistion Tree model\n",
    "ranking = model.feature_importances_\n",
    "\n",
    "zipped = list(zip(features, ranking))\n",
    "\n",
    "df = pd.DataFrame(zipped, columns = ['Feature', 'Ranking']) \n",
    "   \n",
    "# Order data according to ranking\n",
    "df.sort_values(by='Ranking', ascending=False)"
   ]
  },
  {
   "cell_type": "markdown",
   "metadata": {},
   "source": [
    "Another way to interpret this result is that grade of risk has a very low impact on the target variable. While installment has the highest and borrower_rate together with amount_borrowed have more or less similar importance. This could be an interesting insight, depending on the visualization, we may end up with some interesting graphs, the amount borrowed has the lowest impact out of the three of them.\n",
    "\n",
    "Next question: ¿What could be the best combination of installment, borrower rate and amount borrowed that separates a good loan from one that will be defaulted?\n",
    "\n",
    "A given but a visualization of it could be useful anyway, is that borrowers rated with grade A risk are indeed on low risk of defaulting their loans, but a surprising turn is that downwards from there, grades do not say much on the probability of it. That is very interesting\n",
    "\n",
    "https://www.investopedia.com/articles/personal-finance/072316/how-installment-loans-work.asp"
   ]
  },
  {
   "cell_type": "code",
   "execution_count": 25,
   "metadata": {},
   "outputs": [],
   "source": [
    "plot_df = sample_df.sample(frac=0.01)"
   ]
  }
 ],
 "metadata": {
  "kernelspec": {
   "display_name": "Python 3",
   "language": "python",
   "name": "python3"
  },
  "language_info": {
   "codemirror_mode": {
    "name": "ipython",
    "version": 3
   },
   "file_extension": ".py",
   "mimetype": "text/x-python",
   "name": "python",
   "nbconvert_exporter": "python",
   "pygments_lexer": "ipython3",
   "version": "3.8.2"
  }
 },
 "nbformat": 4,
 "nbformat_minor": 4
}
